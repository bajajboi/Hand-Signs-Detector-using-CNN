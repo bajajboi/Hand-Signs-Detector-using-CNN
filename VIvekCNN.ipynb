{
  "nbformat": 4,
  "nbformat_minor": 0,
  "metadata": {
    "colab": {
      "name": "VIvekCNN.ipynb",
      "provenance": []
    },
    "kernelspec": {
      "name": "python3",
      "display_name": "Python 3"
    },
    "accelerator": "GPU"
  },
  "cells": [
    {
      "cell_type": "markdown",
      "metadata": {
        "id": "e5Coq3sf84Bi"
      },
      "source": [
        "**LOAD THE DATA**\r\n",
        "\r\n"
      ]
    },
    {
      "cell_type": "code",
      "metadata": {
        "id": "KFwWBomm0kg2"
      },
      "source": [
        "import h5py\r\n",
        "import numpy as np\r\n",
        "\r\n",
        "def load_dataset():\r\n",
        "    train_dataset = h5py.File('/content/train_signs.h5', 'r')\r\n",
        "    train_set_x_orig = np.array(train_dataset['train_set_x'][:]) #the train set features\r\n",
        "    train_set_y_orig = np.array(train_dataset['train_set_y'][:]) #the train set labels\r\n",
        "\r\n",
        "    test_dataset = h5py.File('/content/test_signs.h5', 'r')\r\n",
        "    test_set_x_orig = np.array(test_dataset['test_set_x'][:]) # the test set features\r\n",
        "    test_set_y_orig = np.array(test_dataset['test_set_y'][:]) # the test set labels\r\n",
        "\r\n",
        "    classes = np.array(test_dataset['list_classes'][:]) # the list of classes\r\n",
        "    \r\n",
        "    train_set_y_orig = train_set_y_orig.reshape((1, train_set_y_orig.shape[0]))\r\n",
        "    test_set_y_orig = test_set_y_orig.reshape((1, test_set_y_orig.shape[0]))\r\n",
        "    \r\n",
        "    return train_set_x_orig, train_set_y_orig, test_set_x_orig, test_set_y_orig, classes\r\n",
        "\r\n",
        "X_train, y_train, X_val, y_val, classes = load_dataset()"
      ],
      "execution_count": 7,
      "outputs": []
    },
    {
      "cell_type": "markdown",
      "metadata": {
        "id": "hXpig-_-9BGo"
      },
      "source": [
        "**VISUALISE SAMPLE DATA**"
      ]
    },
    {
      "cell_type": "code",
      "metadata": {
        "colab": {
          "base_uri": "https://localhost:8080/",
          "height": 281
        },
        "id": "P-yr1YxF8Vb1",
        "outputId": "a1762dac-b8e7-47f1-8420-20f0164c25cb"
      },
      "source": [
        "import matplotlib.pyplot as plt\r\n",
        "%matplotlib inline\r\n",
        "\r\n",
        "index = 6\r\n",
        "plt.imshow(X_train[index])\r\n",
        "plt.title('Label {}'.format(np.squeeze(y_train[:, index])))\r\n",
        "\r\n",
        "plt.show()"
      ],
      "execution_count": 8,
      "outputs": [
        {
          "output_type": "display_data",
          "data": {
            "image/png": "[encoded data removed]",
            "text/plain": [
              "<Figure size 432x288 with 1 Axes>"
            ]
          },
          "metadata": {
            "tags": [],
            "needs_background": "light"
          }
        }
      ]
    },
    {
      "cell_type": "markdown",
      "metadata": {
        "id": "TUl8OCxh9Pbp"
      },
      "source": [
        "**SHAPE OF DATA**"
      ]
    },
    {
      "cell_type": "code",
      "metadata": {
        "colab": {
          "base_uri": "https://localhost:8080/"
        },
        "id": "XSWony9a8vRA",
        "outputId": "1f1ee092-1113-40bf-b6db-81f9f5cdaf9a"
      },
      "source": [
        "print(\"Train data:\", X_train.shape)\r\n",
        "print(\"Train labels:\", y_train.shape)\r\n",
        "\r\n",
        "print(\"Validation data:\", X_val.shape)\r\n",
        "print(\"Validation labels:\", y_val.shape)"
      ],
      "execution_count": 9,
      "outputs": [
        {
          "output_type": "stream",
          "text": [
            "Train data: (1080, 64, 64, 3)\n",
            "Train labels: (1, 1080)\n",
            "Validation data: (120, 64, 64, 3)\n",
            "Validation labels: (1, 120)\n"
          ],
          "name": "stdout"
        }
      ]
    },
    {
      "cell_type": "markdown",
      "metadata": {
        "id": "IalL954w9WyP"
      },
      "source": [
        "**PREPROCESS DATA**\r\n",
        "\r\n",
        "We can see that data is composed of [m, H, W, C], which:\r\n",
        "\r\n",
        "\r\n",
        "1.   m: Number of data\r\n",
        "2.   H, W: Picture's height & width\r\n",
        "3.   C: Number of channels \r\n"
      ]
    },
    {
      "cell_type": "code",
      "metadata": {
        "id": "PSMa36ST9Vjt"
      },
      "source": [
        "\r\n",
        "X_train = X_train.reshape(-1, 3, 64, 64)\r\n",
        "X_val = X_val.reshape(-1, 3, 64, 64)\r\n",
        "\r\n",
        "\r\n",
        "#Normalise the data, divide by 255\r\n",
        "X_train = X_train / 255.\r\n",
        "X_val = X_val / 255."
      ],
      "execution_count": 10,
      "outputs": []
    },
    {
      "cell_type": "markdown",
      "metadata": {
        "id": "efUdU_geAWkW"
      },
      "source": [
        "**MAKE DATASET/DATALOADER**"
      ]
    },
    {
      "cell_type": "code",
      "metadata": {
        "colab": {
          "base_uri": "https://localhost:8080/"
        },
        "id": "U4hCP0KeAFK2",
        "outputId": "e008477d-ca95-4554-f7c9-a91bcce6f4b4"
      },
      "source": [
        "import torch\r\n",
        "\r\n",
        "X_train_tensor = torch.from_numpy(X_train.astype('float32'))\r\n",
        "y_train_tensor = torch.from_numpy(np.squeeze(y_train).astype('int'))\r\n",
        "\r\n",
        "X_val_tensor = torch.from_numpy(X_val.astype('float32'))\r\n",
        "y_val_tensor = torch.from_numpy(np.squeeze(y_val).astype('int'))\r\n",
        "\r\n",
        "#Make dataset from tensors\r\n",
        "\r\n",
        "from torch.utils.data import TensorDataset\r\n",
        "\r\n",
        "train_dataset = TensorDataset(X_train_tensor, y_train_tensor)\r\n",
        "val_dataset = TensorDataset(X_val_tensor, y_val_tensor)\r\n",
        "\r\n",
        "#Test dataset maker\r\n",
        "\r\n",
        "print(\"Length of dataset:\", len(train_dataset))\r\n",
        "\r\n",
        "X_sample, y_sample = train_dataset[0]"
      ],
      "execution_count": 11,
      "outputs": [
        {
          "output_type": "stream",
          "text": [
            "Length of dataset: 1080\n"
          ],
          "name": "stdout"
        }
      ]
    },
    {
      "cell_type": "markdown",
      "metadata": {
        "id": "xIMIfisKA7aT"
      },
      "source": [
        "Now make a data loader"
      ]
    },
    {
      "cell_type": "code",
      "metadata": {
        "id": "xgkbG4MMAj6f"
      },
      "source": [
        "from torch.utils.data import DataLoader\r\n",
        "\r\n",
        "BATCH_SIZE = 128\r\n",
        "\r\n",
        "train_loader = DataLoader(dataset=train_dataset,\r\n",
        "                          batch_size=BATCH_SIZE,\r\n",
        "                          shuffle=True)\r\n",
        "\r\n",
        "val_loader = DataLoader(dataset=val_dataset,\r\n",
        "                        batch_size=BATCH_SIZE,\r\n",
        "                        shuffle=False)"
      ],
      "execution_count": 12,
      "outputs": []
    },
    {
      "cell_type": "markdown",
      "metadata": {
        "id": "JDSCOYvpA_3h"
      },
      "source": [
        "**BUILD MODEL**"
      ]
    },
    {
      "cell_type": "code",
      "metadata": {
        "id": "IKewQp6XA-Vb"
      },
      "source": [
        "#A basic CNN\r\n",
        "\r\n",
        "import torch.nn as nn\r\n",
        "\r\n",
        "class CNN(nn.Module):\r\n",
        "    def __init__(self):\r\n",
        "        super(CNN, self).__init__()\r\n",
        "        \r\n",
        "        self.layer1 = nn.Sequential(\r\n",
        "            nn.Conv2d(3, 16, kernel_size=5),\r\n",
        "            nn.BatchNorm2d(16),\r\n",
        "            nn.ReLU(),\r\n",
        "            nn.MaxPool2d(2)\r\n",
        "        )\r\n",
        "        self.layer2 = nn.Sequential(\r\n",
        "            nn.Conv2d(16, 32, kernel_size=5),\r\n",
        "            nn.BatchNorm2d(32),\r\n",
        "            nn.ReLU(),\r\n",
        "            nn.MaxPool2d(2)\r\n",
        "        )\r\n",
        "        self.fc1 = nn.Sequential(\r\n",
        "            nn.Linear(32*13*13, 1024),\r\n",
        "            nn.ReLU()\r\n",
        "        )\r\n",
        "        self.fc2 = nn.Linear(1024, len(classes))\r\n",
        "        \r\n",
        "    def forward(self, x):\r\n",
        "        out = self.layer1(x)\r\n",
        "        out = self.layer2(out)\r\n",
        "        out = out.view(out.size(0), -1) # flatten [m, C, H, W] -> [m, C*H*W]\r\n",
        "        out = self.fc1(out)\r\n",
        "        out = self.fc2(out)\r\n",
        "        return out"
      ],
      "execution_count": 13,
      "outputs": []
    },
    {
      "cell_type": "code",
      "metadata": {
        "colab": {
          "base_uri": "https://localhost:8080/"
        },
        "id": "gKm4Veg1BaOj",
        "outputId": "07a3a7b5-2b87-4485-ba25-a41195a84c66"
      },
      "source": [
        "model = CNN()\r\n",
        "model = model.cuda() # use GPU\r\n",
        "print(model)"
      ],
      "execution_count": 14,
      "outputs": [
        {
          "output_type": "stream",
          "text": [
            "CNN(\n",
            "  (layer1): Sequential(\n",
            "    (0): Conv2d(3, 16, kernel_size=(5, 5), stride=(1, 1))\n",
            "    (1): BatchNorm2d(16, eps=1e-05, momentum=0.1, affine=True, track_running_stats=True)\n",
            "    (2): ReLU()\n",
            "    (3): MaxPool2d(kernel_size=2, stride=2, padding=0, dilation=1, ceil_mode=False)\n",
            "  )\n",
            "  (layer2): Sequential(\n",
            "    (0): Conv2d(16, 32, kernel_size=(5, 5), stride=(1, 1))\n",
            "    (1): BatchNorm2d(32, eps=1e-05, momentum=0.1, affine=True, track_running_stats=True)\n",
            "    (2): ReLU()\n",
            "    (3): MaxPool2d(kernel_size=2, stride=2, padding=0, dilation=1, ceil_mode=False)\n",
            "  )\n",
            "  (fc1): Sequential(\n",
            "    (0): Linear(in_features=5408, out_features=1024, bias=True)\n",
            "    (1): ReLU()\n",
            "  )\n",
            "  (fc2): Linear(in_features=1024, out_features=6, bias=True)\n",
            ")\n"
          ],
          "name": "stdout"
        }
      ]
    },
    {
      "cell_type": "code",
      "metadata": {
        "id": "OMoCVsU7B4ex"
      },
      "source": [
        "criterion = nn.CrossEntropyLoss()\r\n",
        "optimizer = torch.optim.Adam(model.parameters(), lr=1e-3)"
      ],
      "execution_count": 15,
      "outputs": []
    },
    {
      "cell_type": "markdown",
      "metadata": {
        "id": "Xalq3YlUDVg4"
      },
      "source": [
        "**TRAIN**"
      ]
    },
    {
      "cell_type": "code",
      "metadata": {
        "id": "oKpCrbSGDUVn"
      },
      "source": [
        "from torch.autograd import Variable\r\n",
        "\r\n",
        "def fit(epochs):\r\n",
        "    history = {\r\n",
        "        'loss': [],\r\n",
        "        'val_acc': []\r\n",
        "    }\r\n",
        "    \r\n",
        "    def train(epoch):\r\n",
        "        model.train()\r\n",
        "\r\n",
        "        ITERATIONS = len(train_dataset) // BATCH_SIZE + 1\r\n",
        "        for i, (data, target) in enumerate(train_loader):\r\n",
        "            data, target = Variable(data), Variable(target)\r\n",
        "            data, target = data.cuda(), target.cuda() # using GPU\r\n",
        "\r\n",
        "            ## forward prop\r\n",
        "            output = model(data)\r\n",
        "\r\n",
        "            ## compute loss\r\n",
        "            loss = criterion(output, target)\r\n",
        "\r\n",
        "            ## backward prop and update\r\n",
        "            optimizer.zero_grad()\r\n",
        "            loss.backward()\r\n",
        "            optimizer.step()\r\n",
        "\r\n",
        "            ## Regularly check\r\n",
        "            if (i+1) % 3 == 0:\r\n",
        "                print(\"({}) [{}/{}] loss: {:.4f}\".format(epoch+1, i+1, ITERATIONS,\r\n",
        "                                                         loss.data))\r\n",
        "\r\n",
        "        ## save training loss\r\n",
        "        history['loss'].append(loss.data)\r\n",
        "        \r\n",
        "    def validate():\r\n",
        "        model.eval()\r\n",
        "\r\n",
        "        total = len(val_dataset)\r\n",
        "        correct = 0\r\n",
        "        for data, target in val_loader:\r\n",
        "            data, target = Variable(data, volatile=True), Variable(target)\r\n",
        "            data, target = data.cuda(), target.cuda() # use GPU\r\n",
        "\r\n",
        "            # forward\r\n",
        "            output = model(data)\r\n",
        "\r\n",
        "            # get index of the max\r\n",
        "            pred = output.data.max(1, keepdim=True)[1]\r\n",
        "            correct += pred.eq(target.data.view_as(pred)).cpu().sum() # check equality, then sum up\r\n",
        "\r\n",
        "        val_acc = correct/total\r\n",
        "        print(\"val_acc: {:.2f}\".format(correct/total))\r\n",
        "        \r\n",
        "        # Save validation accuracy\r\n",
        "        history['val_acc'].append(val_acc)        \r\n",
        "\r\n",
        "    ## Start training, validate accuracy each epoch\r\n",
        "    for epoch in range(0, epochs):\r\n",
        "        train(epoch)\r\n",
        "        validate()\r\n",
        "    \r\n",
        "    return history              "
      ],
      "execution_count": 31,
      "outputs": []
    },
    {
      "cell_type": "code",
      "metadata": {
        "colab": {
          "base_uri": "https://localhost:8080/"
        },
        "id": "QYLFGukaDnn6",
        "outputId": "62076270-07a7-40ad-e8af-0ce681aecf6d"
      },
      "source": [
        "EPOCHS = 30\r\n",
        "history = fit(EPOCHS)"
      ],
      "execution_count": 32,
      "outputs": [
        {
          "output_type": "stream",
          "text": [
            "(1) [3/9] loss: 1.2171\n",
            "(1) [6/9] loss: 1.0339\n",
            "(1) [9/9] loss: 1.0505\n",
            "val_acc: 0.36\n",
            "(2) [3/9] loss: 0.9927\n",
            "(2) [6/9] loss: 0.8998\n",
            "(2) [9/9] loss: 0.9002\n",
            "val_acc: 0.23\n"
          ],
          "name": "stdout"
        },
        {
          "output_type": "stream",
          "text": [
            "/usr/local/lib/python3.6/dist-packages/ipykernel_launcher.py:42: UserWarning: volatile was removed and now has no effect. Use `with torch.no_grad():` instead.\n"
          ],
          "name": "stderr"
        },
        {
          "output_type": "stream",
          "text": [
            "(3) [3/9] loss: 0.8349\n",
            "(3) [6/9] loss: 0.8653\n",
            "(3) [9/9] loss: 0.8265\n",
            "val_acc: 0.34\n",
            "(4) [3/9] loss: 0.6163\n",
            "(4) [6/9] loss: 0.7500\n",
            "(4) [9/9] loss: 0.5630\n",
            "val_acc: 0.39\n",
            "(5) [3/9] loss: 0.6517\n",
            "(5) [6/9] loss: 0.6348\n",
            "(5) [9/9] loss: 0.6495\n",
            "val_acc: 0.48\n",
            "(6) [3/9] loss: 0.6522\n",
            "(6) [6/9] loss: 0.5251\n",
            "(6) [9/9] loss: 0.6350\n",
            "val_acc: 0.43\n",
            "(7) [3/9] loss: 0.6715\n",
            "(7) [6/9] loss: 0.4033\n",
            "(7) [9/9] loss: 0.3665\n",
            "val_acc: 0.41\n",
            "(8) [3/9] loss: 0.3801\n",
            "(8) [6/9] loss: 0.4156\n",
            "(8) [9/9] loss: 0.3125\n",
            "val_acc: 0.44\n",
            "(9) [3/9] loss: 0.3927\n",
            "(9) [6/9] loss: 0.2861\n",
            "(9) [9/9] loss: 0.3129\n",
            "val_acc: 0.64\n",
            "(10) [3/9] loss: 0.2452\n",
            "(10) [6/9] loss: 0.2697\n",
            "(10) [9/9] loss: 0.3142\n",
            "val_acc: 0.59\n",
            "(11) [3/9] loss: 0.1551\n",
            "(11) [6/9] loss: 0.2078\n",
            "(11) [9/9] loss: 0.1354\n",
            "val_acc: 0.52\n",
            "(12) [3/9] loss: 0.1298\n",
            "(12) [6/9] loss: 0.1393\n",
            "(12) [9/9] loss: 0.1926\n",
            "val_acc: 0.58\n",
            "(13) [3/9] loss: 0.1479\n",
            "(13) [6/9] loss: 0.0983\n",
            "(13) [9/9] loss: 0.1784\n",
            "val_acc: 0.74\n",
            "(14) [3/9] loss: 0.1063\n",
            "(14) [6/9] loss: 0.0912\n",
            "(14) [9/9] loss: 0.1934\n",
            "val_acc: 0.70\n",
            "(15) [3/9] loss: 0.0949\n",
            "(15) [6/9] loss: 0.0804\n",
            "(15) [9/9] loss: 0.1247\n",
            "val_acc: 0.82\n",
            "(16) [3/9] loss: 0.0735\n",
            "(16) [6/9] loss: 0.0553\n",
            "(16) [9/9] loss: 0.0402\n",
            "val_acc: 0.75\n",
            "(17) [3/9] loss: 0.0423\n",
            "(17) [6/9] loss: 0.0375\n",
            "(17) [9/9] loss: 0.0525\n",
            "val_acc: 0.67\n",
            "(18) [3/9] loss: 0.0413\n",
            "(18) [6/9] loss: 0.0309\n",
            "(18) [9/9] loss: 0.0249\n",
            "val_acc: 0.89\n",
            "(19) [3/9] loss: 0.0221\n",
            "(19) [6/9] loss: 0.0445\n",
            "(19) [9/9] loss: 0.0288\n",
            "val_acc: 0.80\n",
            "(20) [3/9] loss: 0.0307\n",
            "(20) [6/9] loss: 0.0221\n",
            "(20) [9/9] loss: 0.0243\n",
            "val_acc: 0.87\n",
            "(21) [3/9] loss: 0.0157\n",
            "(21) [6/9] loss: 0.0154\n",
            "(21) [9/9] loss: 0.0202\n",
            "val_acc: 0.88\n",
            "(22) [3/9] loss: 0.0217\n",
            "(22) [6/9] loss: 0.0156\n",
            "(22) [9/9] loss: 0.0191\n",
            "val_acc: 0.87\n",
            "(23) [3/9] loss: 0.0135\n",
            "(23) [6/9] loss: 0.0127\n",
            "(23) [9/9] loss: 0.0151\n",
            "val_acc: 0.82\n",
            "(24) [3/9] loss: 0.0094\n",
            "(24) [6/9] loss: 0.0111\n",
            "(24) [9/9] loss: 0.0113\n",
            "val_acc: 0.91\n",
            "(25) [3/9] loss: 0.0081\n",
            "(25) [6/9] loss: 0.0101\n",
            "(25) [9/9] loss: 0.0116\n",
            "val_acc: 0.91\n",
            "(26) [3/9] loss: 0.0086\n",
            "(26) [6/9] loss: 0.0125\n",
            "(26) [9/9] loss: 0.0103\n",
            "val_acc: 0.91\n",
            "(27) [3/9] loss: 0.0102\n",
            "(27) [6/9] loss: 0.0118\n",
            "(27) [9/9] loss: 0.0067\n",
            "val_acc: 0.90\n",
            "(28) [3/9] loss: 0.0079\n",
            "(28) [6/9] loss: 0.0090\n",
            "(28) [9/9] loss: 0.0197\n",
            "val_acc: 0.92\n",
            "(29) [3/9] loss: 0.0069\n",
            "(29) [6/9] loss: 0.0155\n",
            "(29) [9/9] loss: 0.0073\n",
            "val_acc: 0.89\n",
            "(30) [3/9] loss: 0.0053\n",
            "(30) [6/9] loss: 0.0057\n",
            "(30) [9/9] loss: 0.0139\n",
            "val_acc: 0.90\n"
          ],
          "name": "stdout"
        }
      ]
    },
    {
      "cell_type": "markdown",
      "metadata": {
        "id": "LzBY1mKoJV8R"
      },
      "source": [
        "**Visualize training process**"
      ]
    },
    {
      "cell_type": "code",
      "metadata": {
        "colab": {
          "base_uri": "https://localhost:8080/",
          "height": 281
        },
        "id": "SF4GHK7NDq94",
        "outputId": "7f9cba49-55a7-4f14-8152-38a55e7aba53"
      },
      "source": [
        "epochs = range(1, EPOCHS+1)\r\n",
        "\r\n",
        "plt.plot(epochs, history['loss'], 'r')\r\n",
        "plt.title('Training loss')\r\n",
        "plt.show()"
      ],
      "execution_count": 33,
      "outputs": [
        {
          "output_type": "display_data",
          "data": {
            "image/png": "[encoded data removed]",
            "text/plain": [
              "<Figure size 432x288 with 1 Axes>"
            ]
          },
          "metadata": {
            "tags": [],
            "needs_background": "light"
          }
        }
      ]
    },
    {
      "cell_type": "code",
      "metadata": {
        "colab": {
          "base_uri": "https://localhost:8080/",
          "height": 281
        },
        "id": "OuEfVqQ8Jea2",
        "outputId": "de3ad59d-bad0-4c40-b462-212a2da4ca09"
      },
      "source": [
        "plt.plot(epochs, history['val_acc'], 'b')\r\n",
        "plt.title('Validation accuracy')\r\n",
        "plt.show()"
      ],
      "execution_count": 34,
      "outputs": [
        {
          "output_type": "display_data",
          "data": {
            "image/png": "[encoded data removed]",
            "text/plain": [
              "<Figure size 432x288 with 1 Axes>"
            ]
          },
          "metadata": {
            "tags": [],
            "needs_background": "light"
          }
        }
      ]
    },
    {
      "cell_type": "markdown",
      "metadata": {
        "id": "YPyxtduJJjss"
      },
      "source": [
        "**TEST**"
      ]
    },
    {
      "cell_type": "code",
      "metadata": {
        "id": "dP-R9IjIJg16"
      },
      "source": [
        "def predict(X):\r\n",
        "    \"\"\"Arguments\r\n",
        "        X: numpy image, shape (H, W, C)\r\n",
        "    \"\"\"\r\n",
        "    # reshape\r\n",
        "    shape = X.shape\r\n",
        "    X = X.reshape((1, shape[2], shape[0], shape[1]))\r\n",
        "    # normalize\r\n",
        "    X = X / 255.\r\n",
        "    \r\n",
        "    X = torch.from_numpy(X.astype('float32'))\r\n",
        "    X = Variable(X, volatile=True)\r\n",
        "    \r\n",
        "    # forward\r\n",
        "    output = model.cpu()(X)\r\n",
        "\r\n",
        "    # get index of the max\r\n",
        "    _, index = output.data.max(1, keepdim=True)\r\n",
        "    return classes[index[0][0]] "
      ],
      "execution_count": 36,
      "outputs": []
    },
    {
      "cell_type": "markdown",
      "metadata": {
        "id": "_gGpN-pfJ5Ql"
      },
      "source": [
        "Sample predict from validation data"
      ]
    },
    {
      "cell_type": "code",
      "metadata": {
        "colab": {
          "base_uri": "https://localhost:8080/",
          "height": 334
        },
        "id": "AzkYXma4Jr4Y",
        "outputId": "7d2f9f3e-dc6f-4597-9f6a-ceecad31ddb3"
      },
      "source": [
        "import random\r\n",
        "\r\n",
        "_, _, X_val, y_val, classes = load_dataset()\r\n",
        "index = random.randint(0, len(X_val))\r\n",
        "\r\n",
        "pred = predict(X_val[index])\r\n",
        "\r\n",
        "plt.imshow(X_val[index])\r\n",
        "plt.title('Label: {}, Predict: {}'.format(np.squeeze(y_val[:,index]), pred))\r\n",
        "plt.show()"
      ],
      "execution_count": 37,
      "outputs": [
        {
          "output_type": "stream",
          "text": [
            "/usr/local/lib/python3.6/dist-packages/ipykernel_launcher.py:12: UserWarning: volatile was removed and now has no effect. Use `with torch.no_grad():` instead.\n",
            "  if sys.path[0] == '':\n"
          ],
          "name": "stderr"
        },
        {
          "output_type": "display_data",
          "data": {
            "image/png": "[encoded data removed]",
            "text/plain": [
              "<Figure size 432x288 with 1 Axes>"
            ]
          },
          "metadata": {
            "tags": [],
            "needs_background": "light"
          }
        }
      ]
    },
    {
      "cell_type": "markdown",
      "metadata": {
        "id": "a3u43jtJKC93"
      },
      "source": [
        "**EXPORT**"
      ]
    },
    {
      "cell_type": "code",
      "metadata": {
        "id": "Ca7JoL4fJ9Dt"
      },
      "source": [
        "import os\r\n",
        "\r\n",
        "MODEL_DIR = 'model'\r\n",
        "MODEL_PATH = os.path.join(MODEL_DIR, 'cnn.pth')\r\n",
        "\r\n",
        "if not os.path.exists(MODEL_DIR):\r\n",
        "    os.mkdir(MODEL_DIR)\r\n",
        "    \r\n",
        "torch.save(model.state_dict(), MODEL_PATH)"
      ],
      "execution_count": 38,
      "outputs": []
    }
  ]
}